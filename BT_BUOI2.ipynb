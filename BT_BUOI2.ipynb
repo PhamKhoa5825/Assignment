{
 "cells": [
  {
   "cell_type": "code",
   "execution_count": 5,
   "id": "fc657dd3-ae3a-483f-8226-c08e71546db8",
   "metadata": {},
   "outputs": [
    {
     "name": "stdout",
     "output_type": "stream",
     "text": [
      "[ 3 15]\n",
      "[ 6 10 48]\n",
      "[10 15 48]\n",
      "[10 15 48]\n"
     ]
    }
   ],
   "source": [
    "import numpy as np\n",
    "ds = np.array([-2, 6, 3, 10, 15, 48])\n",
    "# lay 3 15\n",
    "print(ds[2::2])\n",
    "# lay 6 10 48\n",
    "print(ds[1::2])\n",
    "# lay 10 15 48\n",
    "print(ds[3:])\n",
    "# lay 48 15 10\n",
    "print(ds[-3:])"
   ]
  },
  {
   "cell_type": "code",
   "execution_count": 13,
   "id": "a4187608-0d04-4322-b92d-fd9b5a827a95",
   "metadata": {},
   "outputs": [
    {
     "name": "stdout",
     "output_type": "stream",
     "text": [
      "[[-2  6  3]\n",
      " [10 15 48]]\n",
      "48\n",
      "[10 15 48]\n",
      "[ 6 48]\n"
     ]
    }
   ],
   "source": [
    "import numpy as np\n",
    "ds = np.array([(-2, 6, 3), (10, 15, 48)])\n",
    "print(ds)\n",
    "print(ds.max()) # phan tu lon nhat\n",
    "print(ds.max(0)) # lon nhat theo cot\n",
    "print(ds.max(1)) # lon nhat theo hang"
   ]
  },
  {
   "cell_type": "code",
   "execution_count": 16,
   "id": "265eac07-0315-472c-bb92-ce96e463bfbe",
   "metadata": {},
   "outputs": [
    {
     "name": "stdout",
     "output_type": "stream",
     "text": [
      "Nhap 2 he so pt bac 1 (ax + b = 0)\n",
      "Nhap 3 he so pt bac 2 (ax^2 + bx + c = 0)\n"
     ]
    },
    {
     "name": "stdin",
     "output_type": "stream",
     "text": [
      "Nhap he so:  1 4 2\n"
     ]
    },
    {
     "name": "stdout",
     "output_type": "stream",
     "text": [
      "PT bac 2 co 2 nghiem: \n",
      "-0.5857864376269049 -3.414213562373095\n"
     ]
    }
   ],
   "source": [
    "import math\n",
    "print(\"Nhap 2 he so pt bac 1 (ax + b = 0)\")\n",
    "print(\"Nhap 3 he so pt bac 2 (ax^2 + bx + c = 0)\")\n",
    "r = True\n",
    "while r:\n",
    "    ds = list(map(int, input(\"Nhap he so: \").split()))\n",
    "    if len(ds) == 2:\n",
    "        a = ds\n",
    "        r = False\n",
    "\n",
    "        if a[0] == 0:\n",
    "            if a[1] == 0:\n",
    "                print(\"PT bac 1 vo so nghiem\")\n",
    "            else:\n",
    "                print(\"PT bac 1 vo nghiem\")\n",
    "        else:\n",
    "            print(\"PT bac 1 co nghiem la: \", - a[1]/a[0])\n",
    "    # ----------------------------------------------------        \n",
    "    elif len(ds) == 3:\n",
    "        b = ds\n",
    "        r = False\n",
    "\n",
    "        # tinh delta\n",
    "        d = b[1]**2 - 4*b[0]*b[2]\n",
    "\n",
    "        if d < 0:\n",
    "            print(\"PT bac 2 vo nghiem\")\n",
    "        elif d == 0:\n",
    "            print(\"PT bac 2 co nghiem kep la: \", - b[1]/(2*b[0]))\n",
    "        else:\n",
    "            print(\"PT bac 2 co 2 nghiem: \")\n",
    "            n1 = (- b[1] + math.sqrt(d))/(2*b[0])\n",
    "            n2 = (- b[1] - math.sqrt(d))/(2*b[0])\n",
    "            print(n1, n2)\n",
    "    # --------------------------------------------------------\n",
    "    else:\n",
    "        print(\"Khong hop le. Vui long nhap lai\")\n"
   ]
  },
  {
   "cell_type": "code",
   "execution_count": 50,
   "id": "529a8edd-28c5-4847-907d-65ac3aa11833",
   "metadata": {},
   "outputs": [
    {
     "name": "stdin",
     "output_type": "stream",
     "text": [
      "Nhap x: 0.2\n"
     ]
    },
    {
     "name": "stdout",
     "output_type": "stream",
     "text": [
      "Cos(x): \n",
      "0.9800665778412416\n",
      "0.9800665778412416\n"
     ]
    }
   ],
   "source": [
    "import math\n",
    "x = float(input(\"Nhap x:\"))\n",
    "print(\"Cos(x): \")\n",
    "cos = 0\n",
    "so = 1 # so thu 1\n",
    "i = 1\n",
    "ss = 1e-15\n",
    "while abs(so) > ss:\n",
    "    cos += so \n",
    "    so *= (-1*x*x)/((2*i) * (2*i-1)) #so thu i\n",
    "    i += 1\n",
    "    \n",
    "print(cos)\n",
    "print(math.cos(x))"
   ]
  },
  {
   "cell_type": "code",
   "execution_count": 15,
   "id": "57d53aeb-4585-4c03-ae86-ab034b77714a",
   "metadata": {},
   "outputs": [
    {
     "name": "stdin",
     "output_type": "stream",
     "text": [
      "Nhap ma sinh vien:  1112244\n"
     ]
    },
    {
     "name": "stdout",
     "output_type": "stream",
     "text": [
      "Danh sach mon no:\n",
      "Tin ky thuat: 3.7\n"
     ]
    }
   ],
   "source": [
    "bang_diem = { 1112233: {'Tin ky thuat': 9.2, 'An toan dien': 8.9, 'The duc': 4.1}, \n",
    "              1112244: {'Tin ky thuat': 3.7, 'The duc': 9.0} }\n",
    "while True:\n",
    "    a = int(input(\"Nhap ma sinh vien: \"))\n",
    "    if a not in bang_diem:\n",
    "        print(\"Khong tim thay ma sinh vien. Vui long nhap lai!\")\n",
    "    else:\n",
    "        break\n",
    "\n",
    "no = False\n",
    "print(\"Danh sach mon no:\")\n",
    "for i in bang_diem[a]:\n",
    "    if bang_diem[a][i] < 5:\n",
    "        print(i, bang_diem[a][i], sep = \": \")\n",
    "        no = True\n",
    "if no == False:\n",
    "    print(\"Khong co mon no\")"
   ]
  },
  {
   "cell_type": "code",
   "execution_count": null,
   "id": "4ddc3f4e-d21c-4284-b259-5e9772a6ccad",
   "metadata": {},
   "outputs": [],
   "source": []
  }
 ],
 "metadata": {
  "kernelspec": {
   "display_name": "Python 3 (ipykernel)",
   "language": "python",
   "name": "python3"
  },
  "language_info": {
   "codemirror_mode": {
    "name": "ipython",
    "version": 3
   },
   "file_extension": ".py",
   "mimetype": "text/x-python",
   "name": "python",
   "nbconvert_exporter": "python",
   "pygments_lexer": "ipython3",
   "version": "3.13.7"
  }
 },
 "nbformat": 4,
 "nbformat_minor": 5
}
